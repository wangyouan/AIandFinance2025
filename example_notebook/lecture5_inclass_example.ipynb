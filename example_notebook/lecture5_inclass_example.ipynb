{
 "cells": [
  {
   "cell_type": "code",
   "execution_count": 1,
   "id": "a92616eb596bee10",
   "metadata": {
    "ExecuteTime": {
     "end_time": "2025-09-29T06:43:57.055427Z",
     "start_time": "2025-09-29T06:43:56.511012Z"
    }
   },
   "outputs": [],
   "source": [
    "# === Requirements / Imports ===\n",
    "import os\n",
    "import wrds\n",
    "from dotenv import load_dotenv\n",
    "\n",
    "# Data handling\n",
    "import numpy as np\n",
    "import pandas as pd\n",
    "import warnings\n",
    "warnings.filterwarnings('ignore')\n",
    "\n",
    "from sklearn.decomposition import PCA\n",
    "\n",
    "# Visualization\n",
    "import matplotlib.pyplot as plt\n",
    "import seaborn as sns\n",
    "\n",
    "# Display settings\n",
    "sns.set_style(\"whitegrid\")\n",
    "plt.rcParams[\"figure.figsize\"] = (8, 5)\n",
    "plt.rcParams[\"axes.titlesize\"] = 14\n",
    "plt.rcParams[\"axes.labelsize\"] = 12"
   ]
  },
  {
   "cell_type": "code",
   "execution_count": 2,
   "id": "853258e19c8ec08e",
   "metadata": {
    "ExecuteTime": {
     "end_time": "2025-09-29T06:29:56.387374Z",
     "start_time": "2025-09-29T06:29:02.904672Z"
    }
   },
   "outputs": [
    {
     "name": "stdout",
     "output_type": "stream",
     "text": [
      "Loading library list...\n",
      "Done\n"
     ]
    }
   ],
   "source": [
    "load_dotenv()\n",
    "wrds_user = os.getenv(\"WRDS_USER\")\n",
    "\n",
    "start_time = '1990-01-01'\n",
    "end_time = '2024-12-31'\n",
    "\n",
    "# Connect to WRDS\n",
    "db = wrds.Connection(wrds_username=wrds_user)"
   ]
  },
  {
   "cell_type": "code",
   "execution_count": 3,
   "id": "7f1360b54f26b2c3",
   "metadata": {
    "ExecuteTime": {
     "end_time": "2025-09-29T06:33:18.735840Z",
     "start_time": "2025-09-29T06:33:11.995106Z"
    }
   },
   "outputs": [],
   "source": [
    "# ===========================\n",
    "# Compustat (Annual) data\n",
    "# ===========================\n",
    "# 1) Pull Compustat ANNUAL fundamentals\n",
    "funda = db.raw_sql(f\"\"\"\n",
    "    select gvkey, datadate, fyear, fyr,\n",
    "           at,        -- total assets\n",
    "           ceq,       -- common equity\n",
    "           seq,       -- stockholders' equity\n",
    "           txditc,    -- deferred taxes (balance sheet)\n",
    "           pstk, pstkl, pstkrv,  -- preferred stock (various measures)\n",
    "           sale, revt, cogs,     -- sales / revenue / COGS\n",
    "           ib, ni, oiadp, oibdp, xint, xsga, dp,  -- income measures, depreciation, interest, SG&A\n",
    "           dltt, dlc,              -- long-term and short-term debt\n",
    "           capx,       -- capital expenditures\n",
    "           che,        -- cash & equivalents\n",
    "           act, lct,   -- current assets / current liabilities\n",
    "           invt, ppent,-- inventory / net PPE\n",
    "           xrd, xad,   -- R&D / advertising\n",
    "           dvc         -- cash dividends (common)\n",
    "    from comp.funda\n",
    "    where indfmt = 'INDL' and datafmt = 'STD' and popsrc = 'D' and consol = 'C'\n",
    "      and datadate between '2010-01-01' and '2020-12-31'\n",
    "\"\"\")\n",
    "db.close()"
   ]
  },
  {
   "cell_type": "code",
   "execution_count": 8,
   "id": "dfae7bfbe1e00cb2",
   "metadata": {
    "ExecuteTime": {
     "end_time": "2025-09-29T06:33:23.900549Z",
     "start_time": "2025-09-29T06:33:18.754066Z"
    }
   },
   "outputs": [],
   "source": [
    "# 2) Prep\n",
    "funda['datadate'] = pd.to_datetime(funda['datadate'], errors='coerce')\n",
    "funda = funda.sort_values(['gvkey','datadate']).reset_index(drop=True)\n",
    "num_cols = [c for c in funda.columns if c not in ['gvkey','datadate','fyear','fyr']]\n",
    "for c in num_cols:\n",
    "    funda[c] = pd.to_numeric(funda[c], errors='coerce')\n",
    "\n",
    "# 3) Helper(s)\n",
    "eps = 1e-12\n",
    "def nz(x):  # safe denominator\n",
    "    return x.where(x.abs() > eps, np.nan)\n",
    "\n",
    "# --- Book Equity pieces (FF-style) ---\n",
    "# BE = seq + txditc - pstk; if seq missing, fall back to (ceq + pstk) or at - lt (not pulled here)\n",
    "pstk_fill = funda[['pstk','pstkl','pstkrv']].bfill(axis=1).iloc[:,0]\n",
    "be = funda['seq']\n",
    "be = be.fillna(funda['ceq'] + pstk_fill)  # fallback if seq missing\n",
    "be = be + funda['txditc'].fillna(0) - pstk_fill.fillna(0)\n",
    "funda['be'] = be.replace([np.inf,-np.inf], np.nan)\n",
    "\n",
    "# 4) Lags for growth/ratios that need prior-year values\n",
    "grp = funda.groupby('gvkey')\n",
    "for col in ['at','sale','revt','be','act','lct','dltt','dlc','ppent','invt','che','capx','oiadp','oibdp','ib']:\n",
    "    funda[f'L1_{col}'] = grp[col].shift(1)\n",
    "\n",
    "# 5) Build **many** factors (annual, per-assets unless noted)\n",
    "\n",
    "# Size\n",
    "funda['size_log_at']          = np.log(nz(funda['at']))\n",
    "\n",
    "# Book variables (use later with CRSP ME to form BM)\n",
    "funda['be_pos']               = funda['be'].where(funda['be']>0)  # keep positive BE\n",
    "# (BM itself should be computed after you merge with market equity from CRSP)\n",
    "\n",
    "# Leverage\n",
    "funda['lev_total_at']         = (funda['dltt'].fillna(0) + funda['dlc'].fillna(0)) / nz(funda['at'])\n",
    "funda['lev_long_at']          = funda['dltt'] / nz(funda['at'])\n",
    "funda['lev_short_at']         = funda['dlc'] / nz(funda['at'])\n",
    "\n",
    "# Profitability\n",
    "funda['roa']                  = funda['ib'] / nz(funda['at'])\n",
    "funda['roe']                  = funda['ib'] / nz(funda['ceq'])\n",
    "# Operating profitability (FF 2015 flavor; two denominators for flexibility)\n",
    "funda['op_at']                = (funda['revt'] - funda['cogs'] - funda['xsga'].fillna(0) - funda['xint'].fillna(0)) / nz(funda['at'])\n",
    "funda['op_be']                = (funda['revt'] - funda['cogs'] - funda['xsga'].fillna(0) - funda['xint'].fillna(0)) / nz(funda['be_pos'])\n",
    "# Gross profitability (Novy-Marx)\n",
    "funda['gross_prof_at']        = (funda['revt'] - funda['cogs']) / nz(funda['at'])\n",
    "# Margins\n",
    "funda['gross_margin']         = (funda['revt'] - funda['cogs']) / nz(funda['revt'])\n",
    "funda['ebitda_margin']        = funda['oibdp'] / nz(funda['revt'])\n",
    "funda['oper_margin']          = funda['oiadp'] / nz(funda['revt'])\n",
    "\n",
    "# Growth / Investment\n",
    "funda['asset_growth_yoy']     = (funda['at'] / nz(funda['L1_at'])) - 1\n",
    "funda['sales_growth_yoy']     = (funda['sale'] / nz(funda['L1_sale'])) - 1\n",
    "funda['capex_to_at']          = funda['capx'] / nz(funda['at'])\n",
    "funda['capex_to_L1at']        = funda['capx'] / nz(funda['L1_at'])  # investment rate\n",
    "funda['ppe_growth_yoy']       = (funda['ppent'] / nz(funda['L1_ppent'])) - 1\n",
    "funda['inv_growth_yoy']       = (funda['invt'] / nz(funda['L1_invt'])) - 1\n",
    "\n",
    "# Intangibles / Spending\n",
    "funda['rd_to_at']             = funda['xrd'] / nz(funda['at'])\n",
    "funda['adv_to_at']            = funda['xad'] / nz(funda['at'])\n",
    "\n",
    "# Liquidity / Working capital\n",
    "funda['cash_to_at']           = funda['che'] / nz(funda['at'])\n",
    "funda['wc_to_at']             = ((funda['act'] - funda['lct']) / nz(funda['at']))\n",
    "funda['dWC_to_L1at']          = (((funda['act'] - funda['lct']) - (funda['L1_act'] - funda['L1_lct'])) / nz(funda['L1_at']))\n",
    "\n",
    "# Accrual proxies (simple)\n",
    "# Sloan-style working-capital accruals proxy (no OANCF): delta(CA-CL) - delta(Cash) + delta(DLC)\n",
    "funda['wc_accruals_to_at']    = (\n",
    "    ((funda['act'] - funda['lct']) - (funda['L1_act'] - funda['L1_lct']))\n",
    "    - (funda['che'] - funda['L1_che']).fillna(0)\n",
    "    + (funda['dlc'] - funda['L1_dlc']).fillna(0)\n",
    ") / nz(funda['at'])\n",
    "\n",
    "# Capital structure / tangibility\n",
    "funda['tangibility']          = funda['ppent'] / nz(funda['at'])\n",
    "funda['inventory_to_at']      = funda['invt'] / nz(funda['at'])\n",
    "\n",
    "# Payout\n",
    "funda['payout_div_earn']      = funda['dvc'] / nz(funda['ib'])   # cap at reasonable bounds later\n",
    "\n",
    "# 6) Keep tidy feature set\n",
    "annual_features = funda[[\n",
    "    'gvkey','datadate','fyear','fyr',\n",
    "    # core building blocks\n",
    "    'at','be','ceq','dltt','dlc','sale','revt','cogs','oibdp','oiadp','xint','xsga','capx','che','act','lct','ppent','invt','xrd','xad','dvc','ib',\n",
    "    # features\n",
    "    'size_log_at','be_pos',\n",
    "    'lev_total_at','lev_long_at','lev_short_at',\n",
    "    'roa','roe','op_at','op_be','gross_prof_at','gross_margin','ebitda_margin','oper_margin',\n",
    "    'asset_growth_yoy','sales_growth_yoy','capex_to_at','capex_to_L1at','ppe_growth_yoy','inv_growth_yoy',\n",
    "    'rd_to_at','adv_to_at','cash_to_at','wc_to_at','dWC_to_L1at','wc_accruals_to_at',\n",
    "    'tangibility','inventory_to_at','payout_div_earn'\n",
    "]].copy()\n",
    "\n",
    "# 8) De-duplicate (just in case)\n",
    "annual_features['year'] = annual_features['fyear'].fillna(annual_features['datadate'].dt.year)\n",
    "annual_features = annual_features.drop_duplicates(subset=['gvkey','year'], keep='last').reset_index(drop=True)\n"
   ]
  },
  {
   "cell_type": "code",
   "execution_count": 9,
   "id": "dc6734271229d346",
   "metadata": {
    "ExecuteTime": {
     "end_time": "2025-09-29T06:33:54.502913Z",
     "start_time": "2025-09-29T06:33:54.491433Z"
    }
   },
   "outputs": [
    {
     "data": {
      "text/html": [
       "<div>\n",
       "<style scoped>\n",
       "    .dataframe tbody tr th:only-of-type {\n",
       "        vertical-align: middle;\n",
       "    }\n",
       "\n",
       "    .dataframe tbody tr th {\n",
       "        vertical-align: top;\n",
       "    }\n",
       "\n",
       "    .dataframe thead th {\n",
       "        text-align: right;\n",
       "    }\n",
       "</style>\n",
       "<table border=\"1\" class=\"dataframe\">\n",
       "  <thead>\n",
       "    <tr style=\"text-align: right;\">\n",
       "      <th></th>\n",
       "      <th>gvkey</th>\n",
       "      <th>datadate</th>\n",
       "      <th>fyear</th>\n",
       "      <th>fyr</th>\n",
       "      <th>at</th>\n",
       "      <th>be</th>\n",
       "      <th>ceq</th>\n",
       "      <th>dltt</th>\n",
       "      <th>dlc</th>\n",
       "      <th>sale</th>\n",
       "      <th>...</th>\n",
       "      <th>rd_to_at</th>\n",
       "      <th>adv_to_at</th>\n",
       "      <th>cash_to_at</th>\n",
       "      <th>wc_to_at</th>\n",
       "      <th>dWC_to_L1at</th>\n",
       "      <th>wc_accruals_to_at</th>\n",
       "      <th>tangibility</th>\n",
       "      <th>inventory_to_at</th>\n",
       "      <th>payout_div_earn</th>\n",
       "      <th>year</th>\n",
       "    </tr>\n",
       "  </thead>\n",
       "  <tbody>\n",
       "    <tr>\n",
       "      <th>0</th>\n",
       "      <td>001004</td>\n",
       "      <td>2010-05-31</td>\n",
       "      <td>2009</td>\n",
       "      <td>5</td>\n",
       "      <td>1501.042</td>\n",
       "      <td>804.241</td>\n",
       "      <td>746.906</td>\n",
       "      <td>336.191</td>\n",
       "      <td>100.833</td>\n",
       "      <td>1352.151</td>\n",
       "      <td>...</td>\n",
       "      <td>&lt;NA&gt;</td>\n",
       "      <td>&lt;NA&gt;</td>\n",
       "      <td>0.052877</td>\n",
       "      <td>0.358337</td>\n",
       "      <td>&lt;NA&gt;</td>\n",
       "      <td>&lt;NA&gt;</td>\n",
       "      <td>0.222799</td>\n",
       "      <td>0.331039</td>\n",
       "      <td>0.0</td>\n",
       "      <td>2009</td>\n",
       "    </tr>\n",
       "    <tr>\n",
       "      <th>1</th>\n",
       "      <td>001004</td>\n",
       "      <td>2011-05-31</td>\n",
       "      <td>2010</td>\n",
       "      <td>5</td>\n",
       "      <td>1703.727</td>\n",
       "      <td>934.167</td>\n",
       "      <td>835.845</td>\n",
       "      <td>329.802</td>\n",
       "      <td>114.075</td>\n",
       "      <td>1775.782</td>\n",
       "      <td>...</td>\n",
       "      <td>&lt;NA&gt;</td>\n",
       "      <td>&lt;NA&gt;</td>\n",
       "      <td>0.03371</td>\n",
       "      <td>0.292286</td>\n",
       "      <td>-0.026584</td>\n",
       "      <td>-0.002773</td>\n",
       "      <td>0.245206</td>\n",
       "      <td>0.297744</td>\n",
       "      <td>0.040785</td>\n",
       "      <td>2010</td>\n",
       "    </tr>\n",
       "    <tr>\n",
       "      <th>2</th>\n",
       "      <td>001004</td>\n",
       "      <td>2012-05-31</td>\n",
       "      <td>2011</td>\n",
       "      <td>5</td>\n",
       "      <td>2195.653</td>\n",
       "      <td>980.557</td>\n",
       "      <td>864.649</td>\n",
       "      <td>669.489</td>\n",
       "      <td>122.865</td>\n",
       "      <td>2074.498</td>\n",
       "      <td>...</td>\n",
       "      <td>&lt;NA&gt;</td>\n",
       "      <td>&lt;NA&gt;</td>\n",
       "      <td>0.030843</td>\n",
       "      <td>0.268734</td>\n",
       "      <td>0.054041</td>\n",
       "      <td>0.041252</td>\n",
       "      <td>0.20769</td>\n",
       "      <td>0.273154</td>\n",
       "      <td>0.178388</td>\n",
       "      <td>2011</td>\n",
       "    </tr>\n",
       "    <tr>\n",
       "      <th>3</th>\n",
       "      <td>001004</td>\n",
       "      <td>2013-05-31</td>\n",
       "      <td>2012</td>\n",
       "      <td>5</td>\n",
       "      <td>2136.9</td>\n",
       "      <td>1056.8</td>\n",
       "      <td>918.6</td>\n",
       "      <td>622.2</td>\n",
       "      <td>86.4</td>\n",
       "      <td>2167.1</td>\n",
       "      <td>...</td>\n",
       "      <td>&lt;NA&gt;</td>\n",
       "      <td>&lt;NA&gt;</td>\n",
       "      <td>0.035238</td>\n",
       "      <td>0.301699</td>\n",
       "      <td>0.024892</td>\n",
       "      <td>0.004965</td>\n",
       "      <td>0.199541</td>\n",
       "      <td>0.272778</td>\n",
       "      <td>0.216364</td>\n",
       "      <td>2012</td>\n",
       "    </tr>\n",
       "    <tr>\n",
       "      <th>4</th>\n",
       "      <td>001004</td>\n",
       "      <td>2014-05-31</td>\n",
       "      <td>2013</td>\n",
       "      <td>5</td>\n",
       "      <td>2199.5</td>\n",
       "      <td>1161.7</td>\n",
       "      <td>999.5</td>\n",
       "      <td>564.3</td>\n",
       "      <td>69.7</td>\n",
       "      <td>2035.0</td>\n",
       "      <td>...</td>\n",
       "      <td>&lt;NA&gt;</td>\n",
       "      <td>&lt;NA&gt;</td>\n",
       "      <td>0.040555</td>\n",
       "      <td>0.324983</td>\n",
       "      <td>0.032805</td>\n",
       "      <td>0.017959</td>\n",
       "      <td>0.187906</td>\n",
       "      <td>0.287747</td>\n",
       "      <td>0.161866</td>\n",
       "      <td>2013</td>\n",
       "    </tr>\n",
       "  </tbody>\n",
       "</table>\n",
       "<p>5 rows × 55 columns</p>\n",
       "</div>"
      ],
      "text/plain": [
       "    gvkey   datadate  fyear  fyr        at       be      ceq     dltt  \\\n",
       "0  001004 2010-05-31   2009    5  1501.042  804.241  746.906  336.191   \n",
       "1  001004 2011-05-31   2010    5  1703.727  934.167  835.845  329.802   \n",
       "2  001004 2012-05-31   2011    5  2195.653  980.557  864.649  669.489   \n",
       "3  001004 2013-05-31   2012    5    2136.9   1056.8    918.6    622.2   \n",
       "4  001004 2014-05-31   2013    5    2199.5   1161.7    999.5    564.3   \n",
       "\n",
       "       dlc      sale  ...  rd_to_at  adv_to_at  cash_to_at  wc_to_at  \\\n",
       "0  100.833  1352.151  ...      <NA>       <NA>    0.052877  0.358337   \n",
       "1  114.075  1775.782  ...      <NA>       <NA>     0.03371  0.292286   \n",
       "2  122.865  2074.498  ...      <NA>       <NA>    0.030843  0.268734   \n",
       "3     86.4    2167.1  ...      <NA>       <NA>    0.035238  0.301699   \n",
       "4     69.7    2035.0  ...      <NA>       <NA>    0.040555  0.324983   \n",
       "\n",
       "   dWC_to_L1at  wc_accruals_to_at  tangibility  inventory_to_at  \\\n",
       "0         <NA>               <NA>     0.222799         0.331039   \n",
       "1    -0.026584          -0.002773     0.245206         0.297744   \n",
       "2     0.054041           0.041252      0.20769         0.273154   \n",
       "3     0.024892           0.004965     0.199541         0.272778   \n",
       "4     0.032805           0.017959     0.187906         0.287747   \n",
       "\n",
       "   payout_div_earn  year  \n",
       "0              0.0  2009  \n",
       "1         0.040785  2010  \n",
       "2         0.178388  2011  \n",
       "3         0.216364  2012  \n",
       "4         0.161866  2013  \n",
       "\n",
       "[5 rows x 55 columns]"
      ]
     },
     "execution_count": 9,
     "metadata": {},
     "output_type": "execute_result"
    }
   ],
   "source": [
    "annual_features.head()"
   ]
  },
  {
   "cell_type": "code",
   "execution_count": 10,
   "id": "b98ad1b33a890cb2",
   "metadata": {
    "ExecuteTime": {
     "end_time": "2025-09-29T07:47:16.687005Z",
     "start_time": "2025-09-29T07:47:16.610140Z"
    }
   },
   "outputs": [],
   "source": [
    "df = annual_features.copy()\n",
    "# df['year'] = df['fyear'].fillna(df['datadate'].dt.year)\n",
    "# Option: drop clear identifiers / targets / duplicates of same info\n",
    "id_cols = ['gvkey', 'datadate', 'fyear', 'fyr', 'year']\n",
    "# Candidate feature columns = all numeric except identifiers\n",
    "num_cols = df.select_dtypes(include=[np.number]).columns.tolist()\n",
    "feature_cols = [c for c in num_cols if c not in ['year','fyear','fyr']]"
   ]
  },
  {
   "cell_type": "code",
   "execution_count": 11,
   "id": "58a0a6bc013a265b",
   "metadata": {
    "ExecuteTime": {
     "end_time": "2025-09-29T07:47:18.757901Z",
     "start_time": "2025-09-29T07:47:18.753036Z"
    }
   },
   "outputs": [
    {
     "data": {
      "text/plain": [
       "(126769, 55)"
      ]
     },
     "execution_count": 11,
     "metadata": {},
     "output_type": "execute_result"
    }
   ],
   "source": [
    "df.shape"
   ]
  },
  {
   "cell_type": "code",
   "execution_count": 12,
   "id": "cc398076b44068a",
   "metadata": {
    "ExecuteTime": {
     "end_time": "2025-09-29T07:47:19.989460Z",
     "start_time": "2025-09-29T07:47:19.935841Z"
    }
   },
   "outputs": [],
   "source": [
    "# 2) Handle missingness: drop high-missing features, then impute -------------\n",
    "# Drop features with too many NaNs across the whole panel (e.g., >40%)\n",
    "na_ratio = df[feature_cols].isna().mean()\n",
    "kept_features = [c for c in feature_cols if na_ratio[c] <= 0.40]\n",
    "X = df[kept_features].copy()"
   ]
  },
  {
   "cell_type": "code",
   "execution_count": 13,
   "id": "571839e65e831150",
   "metadata": {
    "ExecuteTime": {
     "end_time": "2025-09-29T07:47:21.757869Z",
     "start_time": "2025-09-29T07:47:21.753560Z"
    }
   },
   "outputs": [
    {
     "data": {
      "text/plain": [
       "(126769, 41)"
      ]
     },
     "execution_count": 13,
     "metadata": {},
     "output_type": "execute_result"
    }
   ],
   "source": [
    "X.shape"
   ]
  },
  {
   "cell_type": "code",
   "execution_count": 14,
   "id": "a3c731dfbea9346b",
   "metadata": {
    "ExecuteTime": {
     "end_time": "2025-09-29T07:59:57.076763Z",
     "start_time": "2025-09-29T07:59:55.469382Z"
    }
   },
   "outputs": [
    {
     "name": "stdout",
     "output_type": "stream",
     "text": [
      "X_proc shape: (126769, 41) | dtype: [dtype('float64')]\n"
     ]
    }
   ],
   "source": [
    "# 3) Robust cross-sectional preprocessing by year ---------------------------\n",
    "# Within each year: winsorize to mitigate outliers, then z-score.\n",
    "\n",
    "def winsorize_series(s, p=0.01):\n",
    "    lo, hi = s.quantile(p), s.quantile(1-p)\n",
    "    return s.clip(lo, hi)\n",
    "\n",
    "def cs_winsorize(df_year):\n",
    "    return df_year.apply(lambda s: winsorize_series(s, p=0.01))\n",
    "\n",
    "def cs_zscore(df_year):\n",
    "    std = df_year.std(ddof=0).replace(0, np.nan)\n",
    "    return (df_year - df_year.mean()) / std\n",
    "\n",
    "def cs_impute_median(df_year):\n",
    "    med = df_year.median()\n",
    "    return df_year.fillna(med).fillna(0)\n",
    "\n",
    "# Apply by year (only on X)\n",
    "x_proc_list = list()\n",
    "for y, g in df.assign(_row_id=np.arange(len(df))).groupby('year'):\n",
    "    block = g[kept_features].replace([np.inf, -np.inf], np.nan)\n",
    "    block = cs_impute_median(block)\n",
    "    block = cs_winsorize(block)\n",
    "    block = cs_zscore(block)\n",
    "\n",
    "    block = block.replace([np.inf, -np.inf], np.nan).fillna(0.0).astype('float64')\n",
    "\n",
    "    block['_row_id'] = g['_row_id'].values\n",
    "    x_proc_list.append(block)\n",
    "\n",
    "X_proc = pd.concat(x_proc_list, axis=0).sort_values('_row_id').drop(columns='_row_id').reset_index(drop=True)\n",
    "\n",
    "# After concatenation, remove problematic columns (some columns may still be all constant/all NaN across years)\n",
    "all_nan_cols = X_proc.columns[X_proc.isna().all(axis=0)]\n",
    "if len(all_nan_cols):\n",
    "    print(\"Drop all-NaN cols:\", list(all_nan_cols))\n",
    "    X_proc = X_proc.drop(columns=all_nan_cols)\n",
    "\n",
    "zero_std_cols = X_proc.columns[X_proc.std(ddof=0) == 0]\n",
    "if len(zero_std_cols):\n",
    "    print(\"Drop zero-std cols:\", list(zero_std_cols))\n",
    "    X_proc = X_proc.drop(columns=zero_std_cols)\n",
    "\n",
    "# Final check\n",
    "assert np.isfinite(X_proc.values).all(), \"Still have NaN/Inf in X_proc!\"\n",
    "print(\"X_proc shape:\", X_proc.shape, \"| dtype:\", X_proc.dtypes.unique())"
   ]
  },
  {
   "cell_type": "code",
   "execution_count": 15,
   "id": "533fe42eac16b175",
   "metadata": {
    "ExecuteTime": {
     "end_time": "2025-09-29T08:00:04.455484Z",
     "start_time": "2025-09-29T08:00:04.430218Z"
    }
   },
   "outputs": [
    {
     "name": "stdout",
     "output_type": "stream",
     "text": [
      "Explained variance (first 10): [0.3857 0.1126 0.0699 0.0595 0.0417 0.0368 0.0331 0.0267 0.0259 0.0229]\n",
      "Cumulative   (first 10): [0.3857 0.4984 0.5682 0.6277 0.6695 0.7063 0.7394 0.7661 0.792  0.8149]\n"
     ]
    }
   ],
   "source": [
    "pca = PCA()                         # keep all\n",
    "pca.fit(X_proc.values)             # ensure ndarray\n",
    "\n",
    "expl_var = pca.explained_variance_ratio_\n",
    "cum_var  = np.cumsum(expl_var)\n",
    "print(\"Explained variance (first 10):\", np.round(expl_var[:10], 4))\n",
    "print(\"Cumulative   (first 10):\", np.round(cum_var[:10], 4))"
   ]
  },
  {
   "cell_type": "code",
   "execution_count": 16,
   "id": "bd41b4f3da9c8f48",
   "metadata": {
    "ExecuteTime": {
     "end_time": "2025-09-29T08:00:49.986383Z",
     "start_time": "2025-09-29T08:00:49.395387Z"
    }
   },
   "outputs": [
    {
     "data": {
      "image/png": "[encoded data removed]",
      "text/plain": [
       "<Figure size 800x500 with 1 Axes>"
      ]
     },
     "metadata": {},
     "output_type": "display_data"
    },
    {
     "data": {
      "image/png": "[encoded data removed]",
      "text/plain": [
       "<Figure size 800x500 with 1 Axes>"
      ]
     },
     "metadata": {},
     "output_type": "display_data"
    }
   ],
   "source": [
    "# 5) Scree plot & cumulative variance ---------------------------------------\n",
    "plt.figure()\n",
    "plt.plot(range(1, len(expl_var)+1), expl_var, marker='o')\n",
    "plt.xlabel(\"Principal Component\")\n",
    "plt.ylabel(\"Variance Explained\")\n",
    "plt.title(\"Scree Plot\")\n",
    "plt.show()\n",
    "\n",
    "plt.figure()\n",
    "plt.plot(range(1, len(cum_var)+1), cum_var, marker='o')\n",
    "plt.xlabel(\"Number of Components (k)\")\n",
    "plt.ylabel(\"Cumulative Variance Explained\")\n",
    "plt.title(\"Cumulative Variance\")\n",
    "plt.axhline(0.80, linestyle='--')  # e.g., 80% threshold\n",
    "plt.axhline(0.90, linestyle='--')  # e.g., 90% threshold\n",
    "plt.show()"
   ]
  },
  {
   "cell_type": "code",
   "execution_count": 17,
   "id": "db81b7a76c2320a8",
   "metadata": {
    "ExecuteTime": {
     "end_time": "2025-09-29T08:01:05.659980Z",
     "start_time": "2025-09-29T08:01:05.630661Z"
    }
   },
   "outputs": [
    {
     "name": "stdout",
     "output_type": "stream",
     "text": [
      "\n",
      "Top loadings — PC1\n",
      "             feature   loading\n",
      "0              oibdp  0.239411\n",
      "1               revt  0.235470\n",
      "2               sale  0.235470\n",
      "3             be_pos  0.233547\n",
      "4                 be  0.233542\n",
      "5              oiadp  0.232590\n",
      "6         cash_to_at -0.037032\n",
      "7       lev_short_at -0.018536\n",
      "8       lev_total_at -0.011623\n",
      "9   asset_growth_yoy -0.010142\n",
      "10               roe  0.008608\n",
      "11     capex_to_L1at  0.008770\n",
      "\n",
      "Top loadings — PC2\n",
      "          feature   loading\n",
      "0           op_at  0.408498\n",
      "1             roa  0.399211\n",
      "2        wc_to_at  0.386571\n",
      "3     size_log_at  0.236579\n",
      "4   ebitda_margin  0.224018\n",
      "5     oper_margin  0.223449\n",
      "6    lev_short_at -0.373567\n",
      "7    lev_total_at -0.363431\n",
      "8      cash_to_at -0.128668\n",
      "9             roe -0.045891\n",
      "10    lev_long_at -0.037945\n",
      "11            dlc -0.029907\n",
      "\n",
      "Top loadings — PC3\n",
      "             feature   loading\n",
      "0      ebitda_margin  0.434389\n",
      "1        oper_margin  0.434108\n",
      "2       gross_margin  0.432909\n",
      "3              op_be  0.263573\n",
      "4      gross_prof_at  0.256196\n",
      "5       lev_total_at  0.246951\n",
      "6           wc_to_at -0.234003\n",
      "7         cash_to_at -0.184119\n",
      "8              op_at -0.121479\n",
      "9                roa -0.118300\n",
      "10  asset_growth_yoy -0.076602\n",
      "11               che -0.035777\n"
     ]
    }
   ],
   "source": [
    "# 6) Interpret top loadings for PC1/PC2/PC3 ---------------------------------\n",
    "loadings = pd.DataFrame(pca.components_.T, index=X_proc.columns,\n",
    "                        columns=[f'PC{i}' for i in range(1, len(kept_features)+1)])\n",
    "\n",
    "def top_loadings(load_df, pc='PC1', top=8):\n",
    "    s = load_df[pc]\n",
    "    return pd.DataFrame({\n",
    "        'feature': pd.concat([s.sort_values(ascending=False).head(top),\n",
    "                              s.sort_values(ascending=True).head(top)]).index,\n",
    "        'loading': pd.concat([s.sort_values(ascending=False).head(top),\n",
    "                              s.sort_values(ascending=True).head(top)]).values\n",
    "    }).reset_index(drop=True)\n",
    "\n",
    "print(\"\\nTop loadings — PC1\")\n",
    "print(top_loadings(loadings, 'PC1', top=6))\n",
    "\n",
    "print(\"\\nTop loadings — PC2\")\n",
    "print(top_loadings(loadings, 'PC2', top=6))\n",
    "\n",
    "print(\"\\nTop loadings — PC3\")\n",
    "print(top_loadings(loadings, 'PC3', top=6))"
   ]
  },
  {
   "cell_type": "code",
   "execution_count": 18,
   "id": "e852f0801f9ccc0f",
   "metadata": {
    "ExecuteTime": {
     "end_time": "2025-09-29T08:01:27.982183Z",
     "start_time": "2025-09-29T08:01:27.936064Z"
    }
   },
   "outputs": [
    {
     "data": {
      "text/html": [
       "<div>\n",
       "<style scoped>\n",
       "    .dataframe tbody tr th:only-of-type {\n",
       "        vertical-align: middle;\n",
       "    }\n",
       "\n",
       "    .dataframe tbody tr th {\n",
       "        vertical-align: top;\n",
       "    }\n",
       "\n",
       "    .dataframe thead th {\n",
       "        text-align: right;\n",
       "    }\n",
       "</style>\n",
       "<table border=\"1\" class=\"dataframe\">\n",
       "  <thead>\n",
       "    <tr style=\"text-align: right;\">\n",
       "      <th></th>\n",
       "      <th>gvkey</th>\n",
       "      <th>datadate</th>\n",
       "      <th>year</th>\n",
       "      <th>PC1</th>\n",
       "      <th>PC2</th>\n",
       "      <th>PC3</th>\n",
       "    </tr>\n",
       "  </thead>\n",
       "  <tbody>\n",
       "    <tr>\n",
       "      <th>0</th>\n",
       "      <td>001004</td>\n",
       "      <td>2010-05-31</td>\n",
       "      <td>2009</td>\n",
       "      <td>-0.243346</td>\n",
       "      <td>0.653067</td>\n",
       "      <td>0.388690</td>\n",
       "    </tr>\n",
       "    <tr>\n",
       "      <th>1</th>\n",
       "      <td>001004</td>\n",
       "      <td>2011-05-31</td>\n",
       "      <td>2010</td>\n",
       "      <td>0.004269</td>\n",
       "      <td>0.695424</td>\n",
       "      <td>0.374133</td>\n",
       "    </tr>\n",
       "    <tr>\n",
       "      <th>2</th>\n",
       "      <td>001004</td>\n",
       "      <td>2012-05-31</td>\n",
       "      <td>2011</td>\n",
       "      <td>0.120487</td>\n",
       "      <td>0.655950</td>\n",
       "      <td>0.545628</td>\n",
       "    </tr>\n",
       "    <tr>\n",
       "      <th>3</th>\n",
       "      <td>001004</td>\n",
       "      <td>2013-05-31</td>\n",
       "      <td>2012</td>\n",
       "      <td>0.099216</td>\n",
       "      <td>0.785009</td>\n",
       "      <td>0.573887</td>\n",
       "    </tr>\n",
       "    <tr>\n",
       "      <th>4</th>\n",
       "      <td>001004</td>\n",
       "      <td>2014-05-31</td>\n",
       "      <td>2013</td>\n",
       "      <td>0.082069</td>\n",
       "      <td>0.824340</td>\n",
       "      <td>0.548599</td>\n",
       "    </tr>\n",
       "  </tbody>\n",
       "</table>\n",
       "</div>"
      ],
      "text/plain": [
       "    gvkey   datadate  year       PC1       PC2       PC3\n",
       "0  001004 2010-05-31  2009 -0.243346  0.653067  0.388690\n",
       "1  001004 2011-05-31  2010  0.004269  0.695424  0.374133\n",
       "2  001004 2012-05-31  2011  0.120487  0.655950  0.545628\n",
       "3  001004 2013-05-31  2012  0.099216  0.785009  0.573887\n",
       "4  001004 2014-05-31  2013  0.082069  0.824340  0.548599"
      ]
     },
     "execution_count": 18,
     "metadata": {},
     "output_type": "execute_result"
    }
   ],
   "source": [
    "# 7) Project observations onto first k PCs (optional for downstream tasks) ---\n",
    "k = 3\n",
    "pca_k = PCA(n_components=k)\n",
    "scores = pca_k.fit_transform(X_proc.values)\n",
    "scores_df = pd.DataFrame(scores, columns=[f'PC{i}' for i in range(1, k+1)])\n",
    "# Merge back firm/date for exploration\n",
    "demo = pd.concat([df[['gvkey','datadate','year']].reset_index(drop=True), scores_df], axis=1)\n",
    "demo.head()"
   ]
  }
 ],
 "metadata": {
  "kernelspec": {
   "display_name": "finnlp",
   "language": "python",
   "name": "python3"
  },
  "language_info": {
   "codemirror_mode": {
    "name": "ipython",
    "version": 3
   },
   "file_extension": ".py",
   "mimetype": "text/x-python",
   "name": "python",
   "nbconvert_exporter": "python",
   "pygments_lexer": "ipython3",
   "version": "3.12.3"
  }
 },
 "nbformat": 4,
 "nbformat_minor": 5
}
