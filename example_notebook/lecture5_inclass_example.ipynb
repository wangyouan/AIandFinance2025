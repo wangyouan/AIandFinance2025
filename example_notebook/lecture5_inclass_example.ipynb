{
 "cells": [
  {
   "metadata": {
    "ExecuteTime": {
     "end_time": "2025-09-29T06:43:57.055427Z",
     "start_time": "2025-09-29T06:43:56.511012Z"
    }
   },
   "cell_type": "code",
   "source": [
    "# === Requirements / Imports ===\n",
    "import os\n",
    "import wrds\n",
    "from dotenv import load_dotenv\n",
    "\n",
    "# Data handling\n",
    "import numpy as np\n",
    "import pandas as pd\n",
    "import warnings\n",
    "warnings.filterwarnings('ignore')\n",
    "\n",
    "from sklearn.decomposition import PCA\n",
    "\n",
    "# Visualization\n",
    "import matplotlib.pyplot as plt\n",
    "import seaborn as sns\n",
    "\n",
    "# Display settings\n",
    "sns.set_style(\"whitegrid\")\n",
    "plt.rcParams[\"figure.figsize\"] = (8, 5)\n",
    "plt.rcParams[\"axes.titlesize\"] = 14\n",
    "plt.rcParams[\"axes.labelsize\"] = 12"
   ],
   "id": "a92616eb596bee10",
   "outputs": [],
   "execution_count": 17
  },
  {
   "metadata": {
    "ExecuteTime": {
     "end_time": "2025-09-29T06:29:56.387374Z",
     "start_time": "2025-09-29T06:29:02.904672Z"
    }
   },
   "cell_type": "code",
   "source": [
    "load_dotenv()\n",
    "wrds_user = os.getenv(\"WRDS_USER\")\n",
    "\n",
    "start_time = '1990-01-01'\n",
    "end_time = '2024-12-31'\n",
    "\n",
    "# Connect to WRDS\n",
    "db = wrds.Connection(wrds_username=wrds_user)"
   ],
   "id": "853258e19c8ec08e",
   "outputs": [
    {
     "name": "stdout",
     "output_type": "stream",
     "text": [
      "WRDS recommends setting up a .pgpass file.\n",
      "pgpass file created at C:\\Users\\Dell\\AppData\\Roaming\\postgresql\\pgpass.conf\n",
      "Created .pgpass file successfully.\n",
      "You can create this file yourself at any time with the create_pgpass_file() function.\n",
      "Loading library list...\n",
      "Done\n"
     ]
    }
   ],
   "execution_count": 2
  },
  {
   "metadata": {
    "ExecuteTime": {
     "end_time": "2025-09-29T06:33:18.735840Z",
     "start_time": "2025-09-29T06:33:11.995106Z"
    }
   },
   "cell_type": "code",
   "source": [
    "# ===========================\n",
    "# Compustat (Annual) data\n",
    "# ===========================\n",
    "# 1) Pull Compustat ANNUAL fundamentals\n",
    "funda = db.raw_sql(f\"\"\"\n",
    "    select gvkey, datadate, fyear, fyr,\n",
    "           at,        -- total assets\n",
    "           ceq,       -- common equity\n",
    "           seq,       -- stockholders' equity\n",
    "           txditc,    -- deferred taxes (balance sheet)\n",
    "           pstk, pstkl, pstkrv,  -- preferred stock (various measures)\n",
    "           sale, revt, cogs,     -- sales / revenue / COGS\n",
    "           ib, ni, oiadp, oibdp, xint, xsga, dp,  -- income measures, depreciation, interest, SG&A\n",
    "           dltt, dlc,              -- long-term and short-term debt\n",
    "           capx,       -- capital expenditures\n",
    "           che,        -- cash & equivalents\n",
    "           act, lct,   -- current assets / current liabilities\n",
    "           invt, ppent,-- inventory / net PPE\n",
    "           xrd, xad,   -- R&D / advertising\n",
    "           dvc         -- cash dividends (common)\n",
    "    from comp.funda\n",
    "    where indfmt = 'INDL' and datafmt = 'STD' and popsrc = 'D' and consol = 'C'\n",
    "      and datadate between '2010-01-01' and '2020-12-31'\n",
    "\"\"\")\n"
   ],
   "id": "7f1360b54f26b2c3",
   "outputs": [],
   "execution_count": 3
  },
  {
   "metadata": {
    "ExecuteTime": {
     "end_time": "2025-09-29T06:35:54.365398Z",
     "start_time": "2025-09-29T06:35:54.361078Z"
    }
   },
   "cell_type": "code",
   "source": "db.close()",
   "id": "3649e98a54455007",
   "outputs": [],
   "execution_count": 7
  },
  {
   "metadata": {
    "ExecuteTime": {
     "end_time": "2025-09-29T06:33:23.900549Z",
     "start_time": "2025-09-29T06:33:18.754066Z"
    }
   },
   "cell_type": "code",
   "source": [
    "# 2) Prep\n",
    "funda['datadate'] = pd.to_datetime(funda['datadate'], errors='coerce')\n",
    "funda = funda.sort_values(['gvkey','datadate']).reset_index(drop=True)\n",
    "num_cols = [c for c in funda.columns if c not in ['gvkey','datadate','fyear','fyr']]\n",
    "for c in num_cols:\n",
    "    funda[c] = pd.to_numeric(funda[c], errors='coerce')\n",
    "\n",
    "# 3) Helper(s)\n",
    "eps = 1e-12\n",
    "def nz(x):  # safe denominator\n",
    "    return x.where(x.abs() > eps, np.nan)\n",
    "\n",
    "# --- Book Equity pieces (FF-style) ---\n",
    "# BE = seq + txditc - pstk; if seq missing, fall back to (ceq + pstk) or at - lt (not pulled here)\n",
    "pstk_fill = funda[['pstk','pstkl','pstkrv']].bfill(axis=1).iloc[:,0]\n",
    "be = funda['seq']\n",
    "be = be.fillna(funda['ceq'] + pstk_fill)  # fallback if seq missing\n",
    "be = be + funda['txditc'].fillna(0) - pstk_fill.fillna(0)\n",
    "funda['be'] = be.replace([np.inf,-np.inf], np.nan)\n",
    "\n",
    "# 4) Lags for growth/ratios that need prior-year values\n",
    "grp = funda.groupby('gvkey')\n",
    "for col in ['at','sale','revt','be','act','lct','dltt','dlc','ppent','invt','che','capx','oiadp','oibdp','ib']:\n",
    "    funda[f'L1_{col}'] = grp[col].shift(1)\n",
    "\n",
    "# 5) Build **many** factors (annual, per-assets unless noted)\n",
    "\n",
    "# Size\n",
    "funda['size_log_at']          = np.log(nz(funda['at']))\n",
    "\n",
    "# Book variables (use later with CRSP ME to form BM)\n",
    "funda['be_pos']               = funda['be'].where(funda['be']>0)  # keep positive BE\n",
    "# (BM itself should be computed after you merge with market equity from CRSP)\n",
    "\n",
    "# Leverage\n",
    "funda['lev_total_at']         = (funda['dltt'].fillna(0) + funda['dlc'].fillna(0)) / nz(funda['at'])\n",
    "funda['lev_long_at']          = funda['dltt'] / nz(funda['at'])\n",
    "funda['lev_short_at']         = funda['dlc'] / nz(funda['at'])\n",
    "\n",
    "# Profitability\n",
    "funda['roa']                  = funda['ib'] / nz(funda['at'])\n",
    "funda['roe']                  = funda['ib'] / nz(funda['ceq'])\n",
    "# Operating profitability (FF 2015 flavor; two denominators for flexibility)\n",
    "funda['op_at']                = (funda['revt'] - funda['cogs'] - funda['xsga'].fillna(0) - funda['xint'].fillna(0)) / nz(funda['at'])\n",
    "funda['op_be']                = (funda['revt'] - funda['cogs'] - funda['xsga'].fillna(0) - funda['xint'].fillna(0)) / nz(funda['be_pos'])\n",
    "# Gross profitability (Novy-Marx)\n",
    "funda['gross_prof_at']        = (funda['revt'] - funda['cogs']) / nz(funda['at'])\n",
    "# Margins\n",
    "funda['gross_margin']         = (funda['revt'] - funda['cogs']) / nz(funda['revt'])\n",
    "funda['ebitda_margin']        = funda['oibdp'] / nz(funda['revt'])\n",
    "funda['oper_margin']          = funda['oiadp'] / nz(funda['revt'])\n",
    "\n",
    "# Growth / Investment\n",
    "funda['asset_growth_yoy']     = (funda['at'] / nz(funda['L1_at'])) - 1\n",
    "funda['sales_growth_yoy']     = (funda['sale'] / nz(funda['L1_sale'])) - 1\n",
    "funda['capex_to_at']          = funda['capx'] / nz(funda['at'])\n",
    "funda['capex_to_L1at']        = funda['capx'] / nz(funda['L1_at'])  # investment rate\n",
    "funda['ppe_growth_yoy']       = (funda['ppent'] / nz(funda['L1_ppent'])) - 1\n",
    "funda['inv_growth_yoy']       = (funda['invt'] / nz(funda['L1_invt'])) - 1\n",
    "\n",
    "# Intangibles / Spending\n",
    "funda['rd_to_at']             = funda['xrd'] / nz(funda['at'])\n",
    "funda['adv_to_at']            = funda['xad'] / nz(funda['at'])\n",
    "\n",
    "# Liquidity / Working capital\n",
    "funda['cash_to_at']           = funda['che'] / nz(funda['at'])\n",
    "funda['wc_to_at']             = ((funda['act'] - funda['lct']) / nz(funda['at']))\n",
    "funda['dWC_to_L1at']          = (((funda['act'] - funda['lct']) - (funda['L1_act'] - funda['L1_lct'])) / nz(funda['L1_at']))\n",
    "\n",
    "# Accrual proxies (simple)\n",
    "# Sloan-style working-capital accruals proxy (no OANCF): delta(CA-CL) - delta(Cash) + delta(DLC)\n",
    "funda['wc_accruals_to_at']    = (\n",
    "    ((funda['act'] - funda['lct']) - (funda['L1_act'] - funda['L1_lct']))\n",
    "    - (funda['che'] - funda['L1_che']).fillna(0)\n",
    "    + (funda['dlc'] - funda['L1_dlc']).fillna(0)\n",
    ") / nz(funda['at'])\n",
    "\n",
    "# Capital structure / tangibility\n",
    "funda['tangibility']          = funda['ppent'] / nz(funda['at'])\n",
    "funda['inventory_to_at']      = funda['invt'] / nz(funda['at'])\n",
    "\n",
    "# Payout\n",
    "funda['payout_div_earn']      = funda['dvc'] / nz(funda['ib'])   # cap at reasonable bounds later\n",
    "\n",
    "# 6) Keep tidy feature set\n",
    "annual_features = funda[[\n",
    "    'gvkey','datadate','fyear','fyr',\n",
    "    # core building blocks\n",
    "    'at','be','ceq','dltt','dlc','sale','revt','cogs','oibdp','oiadp','xint','xsga','capx','che','act','lct','ppent','invt','xrd','xad','dvc','ib',\n",
    "    # features\n",
    "    'size_log_at','be_pos',\n",
    "    'lev_total_at','lev_long_at','lev_short_at',\n",
    "    'roa','roe','op_at','op_be','gross_prof_at','gross_margin','ebitda_margin','oper_margin',\n",
    "    'asset_growth_yoy','sales_growth_yoy','capex_to_at','capex_to_L1at','ppe_growth_yoy','inv_growth_yoy',\n",
    "    'rd_to_at','adv_to_at','cash_to_at','wc_to_at','dWC_to_L1at','wc_accruals_to_at',\n",
    "    'tangibility','inventory_to_at','payout_div_earn'\n",
    "]].copy()\n",
    "\n",
    "# 8) De-duplicate (just in case)\n",
    "annual_features = annual_features.drop_duplicates(subset=['gvkey','datadate']).reset_index(drop=True)\n"
   ],
   "id": "dfae7bfbe1e00cb2",
   "outputs": [],
   "execution_count": 4
  },
  {
   "metadata": {
    "ExecuteTime": {
     "end_time": "2025-09-29T06:33:54.502913Z",
     "start_time": "2025-09-29T06:33:54.491433Z"
    }
   },
   "cell_type": "code",
   "source": "print(annual_features.head().to_csv(index=False))",
   "id": "dc6734271229d346",
   "outputs": [
    {
     "name": "stdout",
     "output_type": "stream",
     "text": [
      "gvkey,datadate,fyear,fyr,at,be,ceq,dltt,dlc,sale,revt,cogs,oibdp,oiadp,xint,xsga,capx,che,act,lct,ppent,invt,xrd,xad,dvc,ib,size_log_at,be_pos,lev_total_at,lev_long_at,lev_short_at,roa,roe,op_at,op_be,gross_prof_at,gross_margin,ebitda_margin,oper_margin,asset_growth_yoy,sales_growth_yoy,capex_to_at,capex_to_L1at,ppe_growth_yoy,inv_growth_yoy,rd_to_at,adv_to_at,cash_to_at,wc_to_at,dWC_to_L1at,wc_accruals_to_at,tangibility,inventory_to_at,payout_div_earn\r\n",
      "001004,2010-05-31,2009,5,1501.042,804.241,746.906,336.191,100.833,1352.151,1352.151,1065.902,134.345,95.415,26.832,151.904,28.855,79.37,863.429,325.55,334.43,496.904,,,0.0,44.628,7.313914812587761,804.241,0.29114708315956517,0.2239717476259825,0.06717533553358268,0.029731346624544817,0.05975049069093032,0.07162557743221046,0.13368256530069972,0.19070019359884668,0.21169898924010708,0.09935650678067759,0.07056534366354054,,,0.019223312871991593,,,,,,0.05287660172067138,0.35833707517844265,,,0.2227985625985149,0.33103937131672534,0.0\r\n",
      "001004,2011-05-31,2010,5,1703.727,934.167,835.845,329.802,114.075,1775.782,1775.782,1408.071,196.312,137.016,30.67,171.399,124.879,57.433,913.985,416.01,417.764,507.274,,,2.983,73.139,7.440573483286459,934.167,0.26053293749526774,0.19357678783044466,0.06695614966482306,0.042928826038443946,0.08750306575979995,0.09722332275065194,0.1773151909669256,0.21582741835986632,0.20706989934575304,0.11054960575115641,0.07715811963405418,0.13502953281786922,0.31330154694261214,0.073297541214056,0.08319487396088851,0.24918219059294922,0.020869222224010997,,,0.03371021296252275,0.29228567722410925,-0.026584199509407387,-0.002773331642921591,0.24520595142296858,0.29774371128707827,0.04078535391514787\r\n",
      "001004,2012-05-31,2011,5,2195.653,980.557,864.649,669.489,122.865,2074.498,2074.498,1662.408,222.693,142.36,37.772,189.397,91.218,67.72,1063.272,473.226,456.015,599.752,,,12.081,67.723,7.6942347755718545,980.557,0.36087396323553866,0.3049156674574717,0.055958295778066935,0.030844127009140337,0.07832426799776557,0.08422141385728991,0.18858771086229578,0.1876844838414814,0.1986456482483956,0.10734789814210474,0.06862383092198691,0.2887352257726734,0.16821659415401213,0.04154481605244545,0.05354026789503248,0.09156126425445943,0.1823038436821125,,,0.03084276067302074,0.26873372067444173,0.054040934961997966,0.041251509232105396,0.20768992185923735,0.273154273466709,0.1783884352435657\r\n",
      "001004,2013-05-31,2012,5,2136.9,1056.8,918.6,622.2,86.4,2167.1,2167.1,1714.5,245.2,136.6,41.6,207.4,37.6,75.3,1033.7,389.0,426.4,582.9,,,11.9,55.0,7.667111459652418,1056.8,0.3316018531517619,0.2911694510739857,0.04043240207777622,0.025738218915251063,0.05987372087959939,0.09527820674809298,0.19265707797123383,0.21180214329168418,0.2088505375847907,0.11314660144894098,0.0630335471367265,-0.026758782011547244,0.04463826911378077,0.01759558238569891,0.017124746032273774,-0.0649430391544138,-0.02809828062265729,,,0.03523796153306191,0.30169872244840656,0.024891911426805656,0.004964668444943667,0.19954139173569188,0.27277832373999716,0.21636363636363637\r\n",
      "001004,2014-05-31,2013,5,2199.5,1161.7,999.5,564.3,69.7,2035.0,2035.0,1581.4,256.0,142.6,42.0,197.6,26.5,89.2,1116.9,402.1,413.3,632.9,,,11.8,72.9,7.695985340788774,1161.7,0.2882473289383951,0.2565583087065242,0.03168902023187088,0.03314389634007729,0.07293646823411706,0.09729483973630366,0.18421279159851933,0.20622868833825866,0.22289926289926285,0.1257985257985258,0.07007371007371008,0.029294772801722102,-0.060957039361358434,0.012048192771084338,0.012401141840984604,-0.03072232645403372,0.08577800651912848,,,0.04055467151625369,0.324982950670607,0.032804529926529095,0.017958626960672887,0.18790634235053422,0.2877472152761991,0.16186556927297668\r\n",
      "\n"
     ]
    }
   ],
   "execution_count": 6
  },
  {
   "metadata": {
    "ExecuteTime": {
     "end_time": "2025-09-29T07:47:16.687005Z",
     "start_time": "2025-09-29T07:47:16.610140Z"
    }
   },
   "cell_type": "code",
   "source": [
    "df = annual_features.copy()\n",
    "df['year'] = df['fyear'].fillna(df['datadate'].dt.year)\n",
    "# Option: drop clear identifiers / targets / duplicates of same info\n",
    "id_cols = ['vkey', 'datadate', 'fyear', 'fyr', 'year']\n",
    "# Candidate feature columns = all numeric except identifiers\n",
    "num_cols = df.select_dtypes(include=[np.number]).columns.tolist()\n",
    "feature_cols = [c for c in num_cols if c not in ['year','fyear','fyr']]"
   ],
   "id": "b98ad1b33a890cb2",
   "outputs": [],
   "execution_count": 25
  },
  {
   "metadata": {
    "ExecuteTime": {
     "end_time": "2025-09-29T07:47:18.757901Z",
     "start_time": "2025-09-29T07:47:18.753036Z"
    }
   },
   "cell_type": "code",
   "source": "df.shape",
   "id": "58a0a6bc013a265b",
   "outputs": [
    {
     "data": {
      "text/plain": [
       "(126809, 55)"
      ]
     },
     "execution_count": 26,
     "metadata": {},
     "output_type": "execute_result"
    }
   ],
   "execution_count": 26
  },
  {
   "metadata": {
    "ExecuteTime": {
     "end_time": "2025-09-29T07:47:19.989460Z",
     "start_time": "2025-09-29T07:47:19.935841Z"
    }
   },
   "cell_type": "code",
   "source": [
    "# 2) Handle missingness: drop high-missing features, then impute -------------\n",
    "# Drop features with too many NaNs across the whole panel (e.g., >40%)\n",
    "na_ratio = df[feature_cols].isna().mean()\n",
    "kept_features = [c for c in feature_cols if na_ratio[c] <= 0.40]\n",
    "X = df[kept_features].copy()"
   ],
   "id": "cc398076b44068a",
   "outputs": [],
   "execution_count": 27
  },
  {
   "metadata": {
    "ExecuteTime": {
     "end_time": "2025-09-29T07:47:21.757869Z",
     "start_time": "2025-09-29T07:47:21.753560Z"
    }
   },
   "cell_type": "code",
   "source": "X.shape",
   "id": "571839e65e831150",
   "outputs": [
    {
     "data": {
      "text/plain": [
       "(126809, 41)"
      ]
     },
     "execution_count": 28,
     "metadata": {},
     "output_type": "execute_result"
    }
   ],
   "execution_count": 28
  },
  {
   "metadata": {
    "ExecuteTime": {
     "end_time": "2025-09-29T07:59:57.076763Z",
     "start_time": "2025-09-29T07:59:55.469382Z"
    }
   },
   "cell_type": "code",
   "source": [
    "# 3) Robust cross-sectional preprocessing by year ---------------------------\n",
    "# Within each year: winsorize to mitigate outliers, then z-score.\n",
    "\n",
    "def winsorize_series(s, p=0.01):\n",
    "    lo, hi = s.quantile(p), s.quantile(1-p)\n",
    "    return s.clip(lo, hi)\n",
    "\n",
    "def cs_winsorize(df_year):\n",
    "    return df_year.apply(lambda s: winsorize_series(s, p=0.01))\n",
    "\n",
    "def cs_zscore(df_year):\n",
    "    std = df_year.std(ddof=0).replace(0, np.nan)\n",
    "    return (df_year - df_year.mean()) / std\n",
    "\n",
    "def cs_impute_median(df_year):\n",
    "    med = df_year.median()\n",
    "    return df_year.fillna(med).fillna(0)\n",
    "\n",
    "# Apply by year (only on X)\n",
    "x_proc_list = list()\n",
    "for y, g in df.assign(_row_id=np.arange(len(df))).groupby('year'):\n",
    "    block = g[kept_features].replace([np.inf, -np.inf], np.nan)\n",
    "    block = cs_impute_median(block)\n",
    "    block = cs_winsorize(block)\n",
    "    block = cs_zscore(block)\n",
    "\n",
    "    block = block.replace([np.inf, -np.inf], np.nan).fillna(0.0).astype('float64')\n",
    "\n",
    "    block['_row_id'] = g['_row_id'].values\n",
    "    x_proc_list.append(block)\n",
    "\n",
    "X_proc = pd.concat(x_proc_list, axis=0).sort_values('_row_id').drop(columns='_row_id').reset_index(drop=True)\n",
    "\n",
    "# After concatenation, remove problematic columns (some columns may still be all constant/all NaN across years)\n",
    "all_nan_cols = X_proc.columns[X_proc.isna().all(axis=0)]\n",
    "if len(all_nan_cols):\n",
    "    print(\"Drop all-NaN cols:\", list(all_nan_cols))\n",
    "    X_proc = X_proc.drop(columns=all_nan_cols)\n",
    "\n",
    "zero_std_cols = X_proc.columns[X_proc.std(ddof=0) == 0]\n",
    "if len(zero_std_cols):\n",
    "    print(\"Drop zero-std cols:\", list(zero_std_cols))\n",
    "    X_proc = X_proc.drop(columns=zero_std_cols)\n",
    "\n",
    "# Final check\n",
    "assert np.isfinite(X_proc.values).all(), \"Still have NaN/Inf in X_proc!\"\n",
    "print(\"X_proc shape:\", X_proc.shape, \"| dtype:\", X_proc.dtypes.unique())"
   ],
   "id": "a3c731dfbea9346b",
   "outputs": [
    {
     "name": "stdout",
     "output_type": "stream",
     "text": [
      "X_proc shape: (126809, 41) | dtype: [dtype('float64')]\n"
     ]
    }
   ],
   "execution_count": 42
  },
  {
   "metadata": {
    "ExecuteTime": {
     "end_time": "2025-09-29T08:00:04.455484Z",
     "start_time": "2025-09-29T08:00:04.430218Z"
    }
   },
   "cell_type": "code",
   "source": [
    "pca = PCA()                         # keep all\n",
    "pca.fit(X_proc.values)             # ensure ndarray\n",
    "\n",
    "expl_var = pca.explained_variance_ratio_\n",
    "cum_var  = np.cumsum(expl_var)\n",
    "print(\"Explained variance (first 10):\", np.round(expl_var[:10], 4))\n",
    "print(\"Cumulative   (first 10):\", np.round(cum_var[:10], 4))"
   ],
   "id": "533fe42eac16b175",
   "outputs": [
    {
     "name": "stdout",
     "output_type": "stream",
     "text": [
      "Explained variance (first 10): [0.3858 0.1126 0.0699 0.0595 0.0417 0.0368 0.0331 0.0267 0.0259 0.0229]\n",
      "Cumulative   (first 10): [0.3858 0.4984 0.5683 0.6278 0.6695 0.7063 0.7394 0.7661 0.792  0.8149]\n"
     ]
    }
   ],
   "execution_count": 43
  },
  {
   "metadata": {
    "ExecuteTime": {
     "end_time": "2025-09-29T08:00:49.986383Z",
     "start_time": "2025-09-29T08:00:49.395387Z"
    }
   },
   "cell_type": "code",
   "source": [
    "# 5) Scree plot & cumulative variance ---------------------------------------\n",
    "plt.figure()\n",
    "plt.plot(range(1, len(expl_var)+1), expl_var, marker='o')\n",
    "plt.xlabel(\"Principal Component\")\n",
    "plt.ylabel(\"Variance Explained\")\n",
    "plt.title(\"Scree Plot\")\n",
    "plt.show()\n",
    "\n",
    "plt.figure()\n",
    "plt.plot(range(1, len(cum_var)+1), cum_var, marker='o')\n",
    "plt.xlabel(\"Number of Components (k)\")\n",
    "plt.ylabel(\"Cumulative Variance Explained\")\n",
    "plt.title(\"Cumulative Variance\")\n",
    "plt.axhline(0.80, linestyle='--')  # e.g., 80% threshold\n",
    "plt.axhline(0.90, linestyle='--')  # e.g., 90% threshold\n",
    "plt.show()"
   ],
   "id": "bd41b4f3da9c8f48",
   "outputs": [
    {
     "data": {
      "text/plain": [
       "<Figure size 800x500 with 1 Axes>"
      ],
      "image/png": "[encoded data removed]"
     },
     "metadata": {},
     "output_type": "display_data",
     "jetTransient": {
      "display_id": null
     }
    },
    {
     "data": {
      "text/plain": [
       "<Figure size 800x500 with 1 Axes>"
      ],
      "image/png": "[encoded data removed]"
     },
     "metadata": {},
     "output_type": "display_data",
     "jetTransient": {
      "display_id": null
     }
    }
   ],
   "execution_count": 44
  },
  {
   "metadata": {
    "ExecuteTime": {
     "end_time": "2025-09-29T08:01:05.659980Z",
     "start_time": "2025-09-29T08:01:05.630661Z"
    }
   },
   "cell_type": "code",
   "source": [
    "# 6) Interpret top loadings for PC1/PC2/PC3 ---------------------------------\n",
    "loadings = pd.DataFrame(pca.components_.T, index=X_proc.columns,\n",
    "                        columns=[f'PC{i}' for i in range(1, len(kept_features)+1)])\n",
    "\n",
    "def top_loadings(load_df, pc='PC1', top=8):\n",
    "    s = load_df[pc]\n",
    "    return pd.DataFrame({\n",
    "        'feature': pd.concat([s.sort_values(ascending=False).head(top),\n",
    "                              s.sort_values(ascending=True).head(top)]).index,\n",
    "        'loading': pd.concat([s.sort_values(ascending=False).head(top),\n",
    "                              s.sort_values(ascending=True).head(top)]).values\n",
    "    }).reset_index(drop=True)\n",
    "\n",
    "print(\"\\nTop loadings — PC1\")\n",
    "print(top_loadings(loadings, 'PC1', top=6))\n",
    "\n",
    "print(\"\\nTop loadings — PC2\")\n",
    "print(top_loadings(loadings, 'PC2', top=6))\n",
    "\n",
    "print(\"\\nTop loadings — PC3\")\n",
    "print(top_loadings(loadings, 'PC3', top=6))"
   ],
   "id": "db81b7a76c2320a8",
   "outputs": [
    {
     "name": "stdout",
     "output_type": "stream",
     "text": [
      "\n",
      "Top loadings — PC1\n",
      "             feature   loading\n",
      "0              oibdp  0.239409\n",
      "1               revt  0.235468\n",
      "2               sale  0.235468\n",
      "3             be_pos  0.233544\n",
      "4                 be  0.233539\n",
      "5              oiadp  0.232589\n",
      "6         cash_to_at -0.037024\n",
      "7       lev_short_at -0.018531\n",
      "8       lev_total_at -0.011614\n",
      "9   asset_growth_yoy -0.010137\n",
      "10               roe  0.008608\n",
      "11     capex_to_L1at  0.008779\n",
      "\n",
      "Top loadings — PC2\n",
      "          feature   loading\n",
      "0           op_at  0.408491\n",
      "1             roa  0.399208\n",
      "2        wc_to_at  0.386552\n",
      "3     size_log_at  0.236590\n",
      "4   ebitda_margin  0.224049\n",
      "5     oper_margin  0.223482\n",
      "6    lev_short_at -0.373554\n",
      "7    lev_total_at -0.363410\n",
      "8      cash_to_at -0.128683\n",
      "9             roe -0.045891\n",
      "10    lev_long_at -0.037969\n",
      "11            dlc -0.029904\n",
      "\n",
      "Top loadings — PC3\n",
      "             feature   loading\n",
      "0      ebitda_margin  0.434357\n",
      "1        oper_margin  0.434075\n",
      "2       gross_margin  0.432885\n",
      "3              op_be  0.263599\n",
      "4      gross_prof_at  0.256197\n",
      "5       lev_total_at  0.246982\n",
      "6           wc_to_at -0.234032\n",
      "7         cash_to_at -0.184133\n",
      "8              op_at -0.121482\n",
      "9                roa -0.118304\n",
      "10  asset_growth_yoy -0.076607\n",
      "11               che -0.035778\n"
     ]
    }
   ],
   "execution_count": 45
  },
  {
   "metadata": {
    "ExecuteTime": {
     "end_time": "2025-09-29T08:01:27.982183Z",
     "start_time": "2025-09-29T08:01:27.936064Z"
    }
   },
   "cell_type": "code",
   "source": [
    "# 7) Project observations onto first k PCs (optional for downstream tasks) ---\n",
    "k = 3\n",
    "pca_k = PCA(n_components=k)\n",
    "scores = pca_k.fit_transform(X_proc.values)\n",
    "scores_df = pd.DataFrame(scores, columns=[f'PC{i}' for i in range(1, k+1)])\n",
    "# Merge back firm/date for exploration\n",
    "demo = pd.concat([df[['gvkey','datadate','year']].reset_index(drop=True), scores_df], axis=1)\n",
    "demo.head()"
   ],
   "id": "e852f0801f9ccc0f",
   "outputs": [
    {
     "data": {
      "text/plain": [
       "    gvkey   datadate  year       PC1       PC2       PC3\n",
       "0  001004 2010-05-31  2009 -0.243337  0.653046  0.388685\n",
       "1  001004 2011-05-31  2010  0.004462  0.695222  0.374114\n",
       "2  001004 2012-05-31  2011  0.120860  0.655857  0.545688\n",
       "3  001004 2013-05-31  2012  0.099949  0.784895  0.573991\n",
       "4  001004 2014-05-31  2013  0.082699  0.824317  0.548703"
      ],
      "text/html": [
       "<div>\n",
       "<style scoped>\n",
       "    .dataframe tbody tr th:only-of-type {\n",
       "        vertical-align: middle;\n",
       "    }\n",
       "\n",
       "    .dataframe tbody tr th {\n",
       "        vertical-align: top;\n",
       "    }\n",
       "\n",
       "    .dataframe thead th {\n",
       "        text-align: right;\n",
       "    }\n",
       "</style>\n",
       "<table border=\"1\" class=\"dataframe\">\n",
       "  <thead>\n",
       "    <tr style=\"text-align: right;\">\n",
       "      <th></th>\n",
       "      <th>gvkey</th>\n",
       "      <th>datadate</th>\n",
       "      <th>year</th>\n",
       "      <th>PC1</th>\n",
       "      <th>PC2</th>\n",
       "      <th>PC3</th>\n",
       "    </tr>\n",
       "  </thead>\n",
       "  <tbody>\n",
       "    <tr>\n",
       "      <th>0</th>\n",
       "      <td>001004</td>\n",
       "      <td>2010-05-31</td>\n",
       "      <td>2009</td>\n",
       "      <td>-0.243337</td>\n",
       "      <td>0.653046</td>\n",
       "      <td>0.388685</td>\n",
       "    </tr>\n",
       "    <tr>\n",
       "      <th>1</th>\n",
       "      <td>001004</td>\n",
       "      <td>2011-05-31</td>\n",
       "      <td>2010</td>\n",
       "      <td>0.004462</td>\n",
       "      <td>0.695222</td>\n",
       "      <td>0.374114</td>\n",
       "    </tr>\n",
       "    <tr>\n",
       "      <th>2</th>\n",
       "      <td>001004</td>\n",
       "      <td>2012-05-31</td>\n",
       "      <td>2011</td>\n",
       "      <td>0.120860</td>\n",
       "      <td>0.655857</td>\n",
       "      <td>0.545688</td>\n",
       "    </tr>\n",
       "    <tr>\n",
       "      <th>3</th>\n",
       "      <td>001004</td>\n",
       "      <td>2013-05-31</td>\n",
       "      <td>2012</td>\n",
       "      <td>0.099949</td>\n",
       "      <td>0.784895</td>\n",
       "      <td>0.573991</td>\n",
       "    </tr>\n",
       "    <tr>\n",
       "      <th>4</th>\n",
       "      <td>001004</td>\n",
       "      <td>2014-05-31</td>\n",
       "      <td>2013</td>\n",
       "      <td>0.082699</td>\n",
       "      <td>0.824317</td>\n",
       "      <td>0.548703</td>\n",
       "    </tr>\n",
       "  </tbody>\n",
       "</table>\n",
       "</div>"
      ]
     },
     "execution_count": 47,
     "metadata": {},
     "output_type": "execute_result"
    }
   ],
   "execution_count": 47
  }
 ],
 "metadata": {
  "kernelspec": {
   "name": "python3",
   "language": "python",
   "display_name": "Python 3 (ipykernel)"
  }
 },
 "nbformat": 4,
 "nbformat_minor": 5
}
