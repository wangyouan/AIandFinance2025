{
 "cells": [
  {
   "cell_type": "code",
   "execution_count": 1,
   "id": "c18ae7e4",
   "metadata": {},
   "outputs": [],
   "source": [
    "from csmarapi.CsmarService import CsmarService\n",
    "csmar = CsmarService()"
   ]
  },
  {
   "cell_type": "code",
   "execution_count": null,
   "id": "18483711",
   "metadata": {},
   "outputs": [
    {
     "name": "stderr",
     "output_type": "stream",
     "text": [
      "Sun 31 Aug 2025 14:16:51 CsmarService.py INFO User login succeed\n"
     ]
    }
   ],
   "source": [
    "\n",
    "csmar.login(\"username\", \"password\")"
   ]
  },
  {
   "cell_type": "code",
   "execution_count": 3,
   "id": "9e5ba384",
   "metadata": {},
   "outputs": [
    {
     "name": "stdout",
     "output_type": "stream",
     "text": [
      "       Stkcd      Accper Typrep    A001000000 ShortName\n",
      "0     300755  2018-01-01      A  1.977754e+09      华致酒行\n",
      "1     300757  2018-01-01      A  7.074176e+08      罗博特科\n",
      "2     300758  2018-01-01      A  5.910147e+08      七彩化学\n",
      "3     300759  2018-01-01      A  3.919174e+09      康龙化成\n",
      "4     301192  2018-01-01      A  2.602790e+08      泰祥股份\n",
      "...      ...         ...    ...           ...       ...\n",
      "7588  300527  2019-12-31      A  3.942732e+09      中国应急\n",
      "7589  300100  2019-12-31      A  5.984444e+09      双林股份\n",
      "7590  300433  2019-12-31      A  4.702855e+10      蓝思科技\n",
      "7591  300300  2019-12-31      A  2.459254e+09      汉鼎宇佑\n",
      "7592  300242  2019-12-31      A  2.433080e+09      佳云科技\n",
      "\n",
      "[7593 rows x 5 columns]\n"
     ]
    }
   ],
   "source": [
    "data = csmar.query_df( ['Stkcd','ShortName','Accper','Typrep','A001000000'], \n",
    "                      \"Stkcd like'3%' and Typrep='A'\", 'FS_Combas','2018-01-01','2019-12-31')\n",
    "print(data)"
   ]
  }
 ],
 "metadata": {
  "kernelspec": {
   "display_name": "finnlp",
   "language": "python",
   "name": "python3"
  },
  "language_info": {
   "codemirror_mode": {
    "name": "ipython",
    "version": 3
   },
   "file_extension": ".py",
   "mimetype": "text/x-python",
   "name": "python",
   "nbconvert_exporter": "python",
   "pygments_lexer": "ipython3",
   "version": "3.12.3"
  }
 },
 "nbformat": 4,
 "nbformat_minor": 5
}
